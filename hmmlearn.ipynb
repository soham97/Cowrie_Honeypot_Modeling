{
 "cells": [
  {
   "cell_type": "code",
   "execution_count": 1,
   "metadata": {},
   "outputs": [],
   "source": [
    "import pandas as pd\n",
    "import numpy as np\n",
    "from hmmlearn import hmm\n",
    "from sklearn.preprocessing import LabelEncoder"
   ]
  },
  {
   "cell_type": "code",
   "execution_count": 2,
   "metadata": {},
   "outputs": [
    {
     "data": {
      "text/html": [
       "<div>\n",
       "<style scoped>\n",
       "    .dataframe tbody tr th:only-of-type {\n",
       "        vertical-align: middle;\n",
       "    }\n",
       "\n",
       "    .dataframe tbody tr th {\n",
       "        vertical-align: top;\n",
       "    }\n",
       "\n",
       "    .dataframe thead th {\n",
       "        text-align: right;\n",
       "    }\n",
       "</style>\n",
       "<table border=\"1\" class=\"dataframe\">\n",
       "  <thead>\n",
       "    <tr style=\"text-align: right;\">\n",
       "      <th></th>\n",
       "      <th>compCS</th>\n",
       "      <th>data</th>\n",
       "      <th>dst_ip</th>\n",
       "      <th>dst_port</th>\n",
       "      <th>duration</th>\n",
       "      <th>encCS</th>\n",
       "      <th>eventid</th>\n",
       "      <th>height</th>\n",
       "      <th>input</th>\n",
       "      <th>isError</th>\n",
       "      <th>...</th>\n",
       "      <th>size</th>\n",
       "      <th>src_ip</th>\n",
       "      <th>src_port</th>\n",
       "      <th>system</th>\n",
       "      <th>timestamp</th>\n",
       "      <th>ttylog</th>\n",
       "      <th>url</th>\n",
       "      <th>username</th>\n",
       "      <th>version</th>\n",
       "      <th>width</th>\n",
       "    </tr>\n",
       "  </thead>\n",
       "  <tbody>\n",
       "    <tr>\n",
       "      <th>0</th>\n",
       "      <td>NaN</td>\n",
       "      <td>NaN</td>\n",
       "      <td>10.10.0.13</td>\n",
       "      <td>2222.0</td>\n",
       "      <td>NaN</td>\n",
       "      <td>NaN</td>\n",
       "      <td>cowrie.session.connect</td>\n",
       "      <td>NaN</td>\n",
       "      <td>NaN</td>\n",
       "      <td>0.0</td>\n",
       "      <td>...</td>\n",
       "      <td>NaN</td>\n",
       "      <td>116.31.116.16</td>\n",
       "      <td>39547.0</td>\n",
       "      <td>cowrie.ssh.factory.CowrieSSHFactory</td>\n",
       "      <td>2017-07-03 18:30:07.569246</td>\n",
       "      <td>NaN</td>\n",
       "      <td>NaN</td>\n",
       "      <td>NaN</td>\n",
       "      <td>NaN</td>\n",
       "      <td>NaN</td>\n",
       "    </tr>\n",
       "    <tr>\n",
       "      <th>1</th>\n",
       "      <td>[none]</td>\n",
       "      <td>NaN</td>\n",
       "      <td>NaN</td>\n",
       "      <td>NaN</td>\n",
       "      <td>NaN</td>\n",
       "      <td>[aes128-ctr, aes192-ctr, aes256-ctr, aes256-cb...</td>\n",
       "      <td>cowrie.client.version</td>\n",
       "      <td>NaN</td>\n",
       "      <td>NaN</td>\n",
       "      <td>0.0</td>\n",
       "      <td>...</td>\n",
       "      <td>NaN</td>\n",
       "      <td>116.31.116.16</td>\n",
       "      <td>NaN</td>\n",
       "      <td>HoneyPotSSHTransport,523,116.31.116.16</td>\n",
       "      <td>2017-07-03 18:30:08.235671</td>\n",
       "      <td>NaN</td>\n",
       "      <td>NaN</td>\n",
       "      <td>NaN</td>\n",
       "      <td>SSH-2.0-PUTTY</td>\n",
       "      <td>NaN</td>\n",
       "    </tr>\n",
       "    <tr>\n",
       "      <th>2</th>\n",
       "      <td>NaN</td>\n",
       "      <td>NaN</td>\n",
       "      <td>NaN</td>\n",
       "      <td>NaN</td>\n",
       "      <td>NaN</td>\n",
       "      <td>NaN</td>\n",
       "      <td>cowrie.login.success</td>\n",
       "      <td>NaN</td>\n",
       "      <td>NaN</td>\n",
       "      <td>0.0</td>\n",
       "      <td>...</td>\n",
       "      <td>NaN</td>\n",
       "      <td>116.31.116.16</td>\n",
       "      <td>NaN</td>\n",
       "      <td>SSHService 'ssh-userauth' on HoneyPotSSHTransp...</td>\n",
       "      <td>2017-07-03 18:30:10.585142</td>\n",
       "      <td>NaN</td>\n",
       "      <td>NaN</td>\n",
       "      <td>root</td>\n",
       "      <td>NaN</td>\n",
       "      <td>NaN</td>\n",
       "    </tr>\n",
       "    <tr>\n",
       "      <th>3</th>\n",
       "      <td>NaN</td>\n",
       "      <td>NaN</td>\n",
       "      <td>NaN</td>\n",
       "      <td>NaN</td>\n",
       "      <td>9.96463</td>\n",
       "      <td>NaN</td>\n",
       "      <td>cowrie.session.closed</td>\n",
       "      <td>NaN</td>\n",
       "      <td>NaN</td>\n",
       "      <td>0.0</td>\n",
       "      <td>...</td>\n",
       "      <td>NaN</td>\n",
       "      <td>116.31.116.16</td>\n",
       "      <td>NaN</td>\n",
       "      <td>HoneyPotSSHTransport,523,116.31.116.16</td>\n",
       "      <td>2017-07-03 18:30:17.902600</td>\n",
       "      <td>NaN</td>\n",
       "      <td>NaN</td>\n",
       "      <td>NaN</td>\n",
       "      <td>NaN</td>\n",
       "      <td>NaN</td>\n",
       "    </tr>\n",
       "    <tr>\n",
       "      <th>4</th>\n",
       "      <td>NaN</td>\n",
       "      <td>NaN</td>\n",
       "      <td>10.10.0.13</td>\n",
       "      <td>2222.0</td>\n",
       "      <td>NaN</td>\n",
       "      <td>NaN</td>\n",
       "      <td>cowrie.session.connect</td>\n",
       "      <td>NaN</td>\n",
       "      <td>NaN</td>\n",
       "      <td>0.0</td>\n",
       "      <td>...</td>\n",
       "      <td>NaN</td>\n",
       "      <td>116.31.116.16</td>\n",
       "      <td>22040.0</td>\n",
       "      <td>cowrie.ssh.factory.CowrieSSHFactory</td>\n",
       "      <td>2017-07-03 18:30:44.657703</td>\n",
       "      <td>NaN</td>\n",
       "      <td>NaN</td>\n",
       "      <td>NaN</td>\n",
       "      <td>NaN</td>\n",
       "      <td>NaN</td>\n",
       "    </tr>\n",
       "  </tbody>\n",
       "</table>\n",
       "<p>5 rows × 29 columns</p>\n",
       "</div>"
      ],
      "text/plain": [
       "   compCS data      dst_ip  dst_port  duration  \\\n",
       "0     NaN  NaN  10.10.0.13    2222.0       NaN   \n",
       "1  [none]  NaN         NaN       NaN       NaN   \n",
       "2     NaN  NaN         NaN       NaN       NaN   \n",
       "3     NaN  NaN         NaN       NaN   9.96463   \n",
       "4     NaN  NaN  10.10.0.13    2222.0       NaN   \n",
       "\n",
       "                                               encCS                 eventid  \\\n",
       "0                                                NaN  cowrie.session.connect   \n",
       "1  [aes128-ctr, aes192-ctr, aes256-ctr, aes256-cb...   cowrie.client.version   \n",
       "2                                                NaN    cowrie.login.success   \n",
       "3                                                NaN   cowrie.session.closed   \n",
       "4                                                NaN  cowrie.session.connect   \n",
       "\n",
       "   height input  isError  ...   size         src_ip src_port  \\\n",
       "0     NaN   NaN      0.0  ...    NaN  116.31.116.16  39547.0   \n",
       "1     NaN   NaN      0.0  ...    NaN  116.31.116.16      NaN   \n",
       "2     NaN   NaN      0.0  ...    NaN  116.31.116.16      NaN   \n",
       "3     NaN   NaN      0.0  ...    NaN  116.31.116.16      NaN   \n",
       "4     NaN   NaN      0.0  ...    NaN  116.31.116.16  22040.0   \n",
       "\n",
       "                                              system  \\\n",
       "0                cowrie.ssh.factory.CowrieSSHFactory   \n",
       "1             HoneyPotSSHTransport,523,116.31.116.16   \n",
       "2  SSHService 'ssh-userauth' on HoneyPotSSHTransp...   \n",
       "3             HoneyPotSSHTransport,523,116.31.116.16   \n",
       "4                cowrie.ssh.factory.CowrieSSHFactory   \n",
       "\n",
       "                   timestamp ttylog  url username        version  width  \n",
       "0 2017-07-03 18:30:07.569246    NaN  NaN      NaN            NaN    NaN  \n",
       "1 2017-07-03 18:30:08.235671    NaN  NaN      NaN  SSH-2.0-PUTTY    NaN  \n",
       "2 2017-07-03 18:30:10.585142    NaN  NaN     root            NaN    NaN  \n",
       "3 2017-07-03 18:30:17.902600    NaN  NaN      NaN            NaN    NaN  \n",
       "4 2017-07-03 18:30:44.657703    NaN  NaN      NaN            NaN    NaN  \n",
       "\n",
       "[5 rows x 29 columns]"
      ]
     },
     "execution_count": 2,
     "metadata": {},
     "output_type": "execute_result"
    }
   ],
   "source": [
    "data = pd.read_json('data/cowrie_1.json',lines=True)\n",
    "data.head()"
   ]
  },
  {
   "cell_type": "code",
   "execution_count": 3,
   "metadata": {},
   "outputs": [],
   "source": [
    "data['eventid'] = LabelEncoder().fit_transform(data['eventid'].astype('str').values)"
   ]
  },
  {
   "cell_type": "code",
   "execution_count": 4,
   "metadata": {},
   "outputs": [],
   "source": [
    "data_agg = data.groupby('session',as_index=False).agg(lambda x: x.tolist())"
   ]
  },
  {
   "cell_type": "code",
   "execution_count": 5,
   "metadata": {},
   "outputs": [],
   "source": [
    "agg = pd.DataFrame()\n",
    "agg['eventid'] = data_agg['eventid']"
   ]
  },
  {
   "cell_type": "code",
   "execution_count": 6,
   "metadata": {},
   "outputs": [
    {
     "data": {
      "text/html": [
       "<div>\n",
       "<style scoped>\n",
       "    .dataframe tbody tr th:only-of-type {\n",
       "        vertical-align: middle;\n",
       "    }\n",
       "\n",
       "    .dataframe tbody tr th {\n",
       "        vertical-align: top;\n",
       "    }\n",
       "\n",
       "    .dataframe thead th {\n",
       "        text-align: right;\n",
       "    }\n",
       "</style>\n",
       "<table border=\"1\" class=\"dataframe\">\n",
       "  <thead>\n",
       "    <tr style=\"text-align: right;\">\n",
       "      <th></th>\n",
       "      <th>eventid</th>\n",
       "    </tr>\n",
       "  </thead>\n",
       "  <tbody>\n",
       "    <tr>\n",
       "      <th>0</th>\n",
       "      <td>[12, 10, 8, 3, 4, 3, 2, 3, 4, 3, 4, 3, 4, 4, 4...</td>\n",
       "    </tr>\n",
       "    <tr>\n",
       "      <th>1</th>\n",
       "      <td>[12, 10, 8, 7, 11]</td>\n",
       "    </tr>\n",
       "    <tr>\n",
       "      <th>2</th>\n",
       "      <td>[12, 1, 10, 11]</td>\n",
       "    </tr>\n",
       "    <tr>\n",
       "      <th>3</th>\n",
       "      <td>[12, 11]</td>\n",
       "    </tr>\n",
       "    <tr>\n",
       "      <th>4</th>\n",
       "      <td>[12, 1, 10, 11]</td>\n",
       "    </tr>\n",
       "  </tbody>\n",
       "</table>\n",
       "</div>"
      ],
      "text/plain": [
       "                                             eventid\n",
       "0  [12, 10, 8, 3, 4, 3, 2, 3, 4, 3, 4, 3, 4, 4, 4...\n",
       "1                                 [12, 10, 8, 7, 11]\n",
       "2                                    [12, 1, 10, 11]\n",
       "3                                           [12, 11]\n",
       "4                                    [12, 1, 10, 11]"
      ]
     },
     "execution_count": 6,
     "metadata": {},
     "output_type": "execute_result"
    }
   ],
   "source": [
    "agg.head()"
   ]
  },
  {
   "cell_type": "code",
   "execution_count": 7,
   "metadata": {},
   "outputs": [
    {
     "data": {
      "text/plain": [
       "array([list([12, 10, 8, 3, 4, 3, 2, 3, 4, 3, 4, 3, 4, 4, 4, 3, 4, 4, 4, 3, 4, 4, 4, 4, 4, 4, 3, 4, 4, 4, 4, 4, 4, 3, 4, 4, 4, 4, 4, 4, 3, 4, 4, 4, 4, 4, 4, 3, 4, 4, 4, 4, 4, 4, 3, 4, 4, 4, 4, 4, 4, 3, 4, 4, 4, 4, 4, 4, 3, 4, 4, 4, 4, 4, 4, 3, 4, 4, 4, 4, 4, 4, 3, 4, 4, 4, 4, 4, 4, 3, 4, 4, 4, 4, 4, 3, 4, 4, 4, 4, 4, 4, 3, 4, 4, 4, 4, 4, 4, 3, 4, 4, 4, 4, 4, 4, 3, 4, 4, 4, 4, 4, 4, 3, 4, 3, 4, 4, 4, 3, 4, 4, 4, 3, 4, 4, 4, 3, 4, 4, 4, 3, 4, 4, 4, 3, 4, 4, 4, 3, 4, 4, 4, 3, 4, 4, 4, 3, 4, 4, 4, 3, 4, 4, 4, 3, 4, 4, 4, 3, 4, 4, 4, 3, 4, 4, 4, 3, 4, 4, 4, 3, 4, 3, 4, 4, 4, 4, 4, 4, 3, 4, 4, 3, 4, 7, 11])],\n",
       "      dtype=object)"
      ]
     },
     "execution_count": 7,
     "metadata": {},
     "output_type": "execute_result"
    }
   ],
   "source": [
    "np.array(agg.loc[0])"
   ]
  },
  {
   "cell_type": "code",
   "execution_count": 24,
   "metadata": {},
   "outputs": [],
   "source": [
    "a = [1,2,3,4,5,6,7,8,9,10,11,12,13,14]\n",
    "a = np.array(a)\n",
    "a = a.reshape(-1,1)"
   ]
  },
  {
   "cell_type": "code",
   "execution_count": 25,
   "metadata": {},
   "outputs": [
    {
     "data": {
      "text/plain": [
       "array([[ 1],\n",
       "       [ 2],\n",
       "       [ 3],\n",
       "       [ 4],\n",
       "       [ 5],\n",
       "       [ 6],\n",
       "       [ 7],\n",
       "       [ 8],\n",
       "       [ 9],\n",
       "       [10],\n",
       "       [11],\n",
       "       [12],\n",
       "       [13],\n",
       "       [14]])"
      ]
     },
     "execution_count": 25,
     "metadata": {},
     "output_type": "execute_result"
    }
   ],
   "source": [
    "a"
   ]
  },
  {
   "cell_type": "code",
   "execution_count": 26,
   "metadata": {},
   "outputs": [
    {
     "name": "stderr",
     "output_type": "stream",
     "text": [
      "/Library/Frameworks/Python.framework/Versions/3.6/lib/python3.6/site-packages/sklearn/utils/deprecation.py:77: DeprecationWarning: Function distribute_covar_matrix_to_match_covariance_type is deprecated; The function distribute_covar_matrix_to_match_covariance_typeis deprecated in 0.18 and will be removed in 0.20.\n",
      "  warnings.warn(msg, category=DeprecationWarning)\n",
      "/Library/Frameworks/Python.framework/Versions/3.6/lib/python3.6/site-packages/sklearn/utils/deprecation.py:77: DeprecationWarning: Function log_multivariate_normal_density is deprecated; The function log_multivariate_normal_density is deprecated in 0.18 and will be removed in 0.20.\n",
      "  warnings.warn(msg, category=DeprecationWarning)\n",
      "/Library/Frameworks/Python.framework/Versions/3.6/lib/python3.6/site-packages/sklearn/utils/deprecation.py:77: DeprecationWarning: Function log_multivariate_normal_density is deprecated; The function log_multivariate_normal_density is deprecated in 0.18 and will be removed in 0.20.\n",
      "  warnings.warn(msg, category=DeprecationWarning)\n",
      "/Library/Frameworks/Python.framework/Versions/3.6/lib/python3.6/site-packages/sklearn/utils/deprecation.py:77: DeprecationWarning: Function log_multivariate_normal_density is deprecated; The function log_multivariate_normal_density is deprecated in 0.18 and will be removed in 0.20.\n",
      "  warnings.warn(msg, category=DeprecationWarning)\n",
      "/Library/Frameworks/Python.framework/Versions/3.6/lib/python3.6/site-packages/sklearn/utils/deprecation.py:77: DeprecationWarning: Function log_multivariate_normal_density is deprecated; The function log_multivariate_normal_density is deprecated in 0.18 and will be removed in 0.20.\n",
      "  warnings.warn(msg, category=DeprecationWarning)\n",
      "/Library/Frameworks/Python.framework/Versions/3.6/lib/python3.6/site-packages/sklearn/utils/deprecation.py:77: DeprecationWarning: Function log_multivariate_normal_density is deprecated; The function log_multivariate_normal_density is deprecated in 0.18 and will be removed in 0.20.\n",
      "  warnings.warn(msg, category=DeprecationWarning)\n",
      "/Library/Frameworks/Python.framework/Versions/3.6/lib/python3.6/site-packages/sklearn/utils/deprecation.py:77: DeprecationWarning: Function log_multivariate_normal_density is deprecated; The function log_multivariate_normal_density is deprecated in 0.18 and will be removed in 0.20.\n",
      "  warnings.warn(msg, category=DeprecationWarning)\n",
      "/Library/Frameworks/Python.framework/Versions/3.6/lib/python3.6/site-packages/sklearn/utils/deprecation.py:77: DeprecationWarning: Function log_multivariate_normal_density is deprecated; The function log_multivariate_normal_density is deprecated in 0.18 and will be removed in 0.20.\n",
      "  warnings.warn(msg, category=DeprecationWarning)\n",
      "/Library/Frameworks/Python.framework/Versions/3.6/lib/python3.6/site-packages/sklearn/utils/deprecation.py:77: DeprecationWarning: Function log_multivariate_normal_density is deprecated; The function log_multivariate_normal_density is deprecated in 0.18 and will be removed in 0.20.\n",
      "  warnings.warn(msg, category=DeprecationWarning)\n",
      "/Library/Frameworks/Python.framework/Versions/3.6/lib/python3.6/site-packages/sklearn/utils/deprecation.py:77: DeprecationWarning: Function log_multivariate_normal_density is deprecated; The function log_multivariate_normal_density is deprecated in 0.18 and will be removed in 0.20.\n",
      "  warnings.warn(msg, category=DeprecationWarning)\n",
      "/Library/Frameworks/Python.framework/Versions/3.6/lib/python3.6/site-packages/sklearn/utils/deprecation.py:77: DeprecationWarning: Function log_multivariate_normal_density is deprecated; The function log_multivariate_normal_density is deprecated in 0.18 and will be removed in 0.20.\n",
      "  warnings.warn(msg, category=DeprecationWarning)\n"
     ]
    },
    {
     "data": {
      "text/plain": [
       "GaussianHMM(algorithm='viterbi', covariance_type='full', covars_prior=0.01,\n",
       "      covars_weight=1, init_params='stmc', means_prior=0, means_weight=0,\n",
       "      min_covar=0.001, n_components=14, n_iter=10, params='stmc',\n",
       "      random_state=None, startprob_prior=1.0, tol=0.01, transmat_prior=1.0,\n",
       "      verbose=False)"
      ]
     },
     "execution_count": 26,
     "metadata": {},
     "output_type": "execute_result"
    }
   ],
   "source": [
    "model = hmm.GaussianHMM(n_components=14, covariance_type=\"full\")\n",
    "model.fit(a)"
   ]
  },
  {
   "cell_type": "code",
   "execution_count": 27,
   "metadata": {},
   "outputs": [
    {
     "name": "stderr",
     "output_type": "stream",
     "text": [
      "/Library/Frameworks/Python.framework/Versions/3.6/lib/python3.6/site-packages/sklearn/utils/deprecation.py:77: DeprecationWarning: Function log_multivariate_normal_density is deprecated; The function log_multivariate_normal_density is deprecated in 0.18 and will be removed in 0.20.\n",
      "  warnings.warn(msg, category=DeprecationWarning)\n",
      "/Users/sohamdeshmukh/Library/Python/3.6/lib/python/site-packages/hmmlearn/base.py:451: RuntimeWarning: divide by zero encountered in log\n",
      "  n_samples, n_components, np.log(self.startprob_),\n",
      "/Users/sohamdeshmukh/Library/Python/3.6/lib/python/site-packages/hmmlearn/base.py:452: RuntimeWarning: divide by zero encountered in log\n",
      "  np.log(self.transmat_), framelogprob)\n"
     ]
    },
    {
     "data": {
      "text/plain": [
       "array([ 3,  3, 12, 11, 13,  4,  6,  8,  2, 10,  7,  9,  5,  5])"
      ]
     },
     "execution_count": 27,
     "metadata": {},
     "output_type": "execute_result"
    }
   ],
   "source": [
    "model.predict(a)"
   ]
  },
  {
   "cell_type": "code",
   "execution_count": 28,
   "metadata": {},
   "outputs": [
    {
     "data": {
      "text/plain": [
       "array([2.26740462e-063, 0.00000000e+000, 0.00000000e+000, 1.00000000e+000,\n",
       "       0.00000000e+000, 0.00000000e+000, 0.00000000e+000, 0.00000000e+000,\n",
       "       0.00000000e+000, 0.00000000e+000, 0.00000000e+000, 1.75786247e-044,\n",
       "       3.59126125e-014, 9.70467562e-225])"
      ]
     },
     "execution_count": 28,
     "metadata": {},
     "output_type": "execute_result"
    }
   ],
   "source": [
    "model.startprob_"
   ]
  },
  {
   "cell_type": "code",
   "execution_count": 29,
   "metadata": {},
   "outputs": [
    {
     "data": {
      "text/plain": [
       "array([[2.73364091e-003, 2.09985936e-075, 1.98632512e-048,\n",
       "        5.89277906e-041, 3.38035949e-001, 6.40223450e-097,\n",
       "        6.38962595e-011, 2.71196887e-067, 4.81172135e-027,\n",
       "        7.70858504e-080, 2.29174721e-064, 6.79309147e-008,\n",
       "        1.93634254e-017, 6.59230342e-001],\n",
       "       [2.05812159e-161, 5.10365204e-002, 8.33533688e-045,\n",
       "        6.89630574e-270, 1.53545778e-137, 4.15224216e-001,\n",
       "        6.53840430e-105, 3.00200268e-006, 3.40556328e-073,\n",
       "        5.33736261e-001, 4.07608600e-020, 1.81832683e-201,\n",
       "        4.86584402e-229, 1.08058210e-159],\n",
       "       [7.77612714e-125, 1.39488141e-006, 5.27859988e-025,\n",
       "        1.59119433e-288, 4.10592937e-225, 6.39346895e-017,\n",
       "        1.39408763e-141, 8.58085697e-003, 4.80179236e-059,\n",
       "        2.47040090e-010, 9.91417748e-001, 8.79246644e-196,\n",
       "        1.12307845e-234, 1.63001559e-230],\n",
       "       [4.48361127e-010, 1.94246077e-175, 1.00930121e-158,\n",
       "        4.44656120e-001, 5.20520463e-048, 1.16770855e-202,\n",
       "        6.94277782e-082, 1.31964097e-168, 7.41393458e-123,\n",
       "        6.36323252e-177, 5.05097081e-177, 1.11697829e-004,\n",
       "        5.55232181e-001, 3.44858362e-022],\n",
       "       [2.16007422e-037, 4.58486254e-062, 7.66906231e-060,\n",
       "        2.48117094e-135, 1.52328464e-027, 2.33742174e-078,\n",
       "        1.00000000e+000, 2.66361057e-055, 4.58413460e-031,\n",
       "        8.86187376e-062, 2.46737650e-074, 3.25162448e-070,\n",
       "        1.17116662e-098, 1.89044239e-042],\n",
       "       [2.11906884e-192, 8.22868012e-008, 7.37123072e-074,\n",
       "        0.00000000e+000, 2.08084795e-179, 9.79428750e-001,\n",
       "        2.85169943e-145, 1.38761573e-016, 5.59923046e-109,\n",
       "        2.05711681e-002, 3.49541186e-039, 2.54310776e-251,\n",
       "        1.07880693e-282, 7.98014756e-204],\n",
       "       [2.74761613e-066, 1.12355153e-037, 1.99867068e-028,\n",
       "        7.83707477e-191, 9.31811465e-063, 2.46763472e-053,\n",
       "        2.62420203e-030, 3.40564159e-030, 1.00000000e+000,\n",
       "        3.56815879e-040, 1.99587278e-041, 2.95687349e-113,\n",
       "        2.36869800e-148, 1.51182314e-087],\n",
       "       [4.09108752e-152, 4.55791219e-001, 1.85152962e-034,\n",
       "        1.23037088e-270, 1.53070459e-130, 2.71086547e-002,\n",
       "        2.97282485e-095, 3.11125422e-003, 1.95133367e-062,\n",
       "        5.13988872e-001, 2.15184112e-013, 4.49262267e-197,\n",
       "        5.08425597e-227, 2.65220216e-152],\n",
       "       [1.26043278e-096, 1.75081507e-018, 1.00000000e+000,\n",
       "        1.88381488e-247, 1.90662853e-148, 2.57822959e-032,\n",
       "        5.63061148e-066, 2.95465731e-012, 1.85444668e-029,\n",
       "        3.25639672e-022, 1.68463242e-010, 2.40890490e-157,\n",
       "        2.12529522e-197, 4.17712987e-154],\n",
       "       [1.43311753e-168, 4.14471562e-005, 6.89312546e-052,\n",
       "        6.16318338e-267, 1.00212059e-136, 8.94824977e-001,\n",
       "        1.76237061e-108, 9.97777226e-011, 2.09926389e-079,\n",
       "        1.05133576e-001, 3.40222731e-027, 1.59582988e-197,\n",
       "        5.99572086e-225, 5.59645147e-158],\n",
       "       [3.89807029e-144, 2.92027172e-001, 8.07078225e-037,\n",
       "        7.77996921e-303, 5.33765053e-201, 4.90497887e-007,\n",
       "        2.03412012e-132, 7.06000811e-001, 5.48097749e-076,\n",
       "        1.97152393e-003, 2.45499460e-009, 5.61030603e-213,\n",
       "        1.66846303e-249, 1.09182028e-224],\n",
       "       [7.01633689e-002, 4.23268299e-105, 2.87305212e-083,\n",
       "        2.01137216e-027, 2.08122597e-009, 1.41798440e-128,\n",
       "        1.32816269e-027, 3.18507973e-097, 1.15731260e-052,\n",
       "        6.27532178e-108, 8.85601668e-100, 3.92378167e-003,\n",
       "        2.19097642e-011, 9.25912847e-001],\n",
       "       [5.96810351e-002, 4.00823153e-132, 2.23979552e-108,\n",
       "        5.03064935e-013, 5.22775443e-022, 2.99160478e-156,\n",
       "        3.17836160e-047, 2.74978004e-124, 3.76969936e-077,\n",
       "        3.34315706e-134, 1.33841271e-125, 7.90655154e-001,\n",
       "        1.49663708e-001, 1.03469823e-007],\n",
       "       [1.00026261e-015, 7.39201702e-080, 1.16667167e-079,\n",
       "        3.79595503e-077, 1.00000000e+000, 5.92080980e-098,\n",
       "        2.83732576e-012, 8.81720912e-073, 2.20355873e-046,\n",
       "        3.12324339e-080, 7.80208336e-095, 2.95924436e-030,\n",
       "        1.50972282e-048, 1.86518793e-012]])"
      ]
     },
     "execution_count": 29,
     "metadata": {},
     "output_type": "execute_result"
    }
   ],
   "source": [
    "model.transmat_"
   ]
  },
  {
   "cell_type": "code",
   "execution_count": null,
   "metadata": {},
   "outputs": [],
   "source": []
  }
 ],
 "metadata": {
  "kernelspec": {
   "display_name": "Python 3",
   "language": "python",
   "name": "python3"
  },
  "language_info": {
   "codemirror_mode": {
    "name": "ipython",
    "version": 3
   },
   "file_extension": ".py",
   "mimetype": "text/x-python",
   "name": "python",
   "nbconvert_exporter": "python",
   "pygments_lexer": "ipython3",
   "version": "3.6.2"
  }
 },
 "nbformat": 4,
 "nbformat_minor": 2
}
