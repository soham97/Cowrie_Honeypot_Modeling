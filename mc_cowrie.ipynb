{
 "cells": [
  {
   "cell_type": "code",
   "execution_count": 1,
   "metadata": {},
   "outputs": [],
   "source": [
    "import numpy as np\n",
    "import pandas as pd\n",
    "import pickle\n",
    "\n",
    "from markovchain import MarkovChain"
   ]
  },
  {
   "cell_type": "code",
   "execution_count": 2,
   "metadata": {},
   "outputs": [],
   "source": [
    "with open(\"input/seq_events.txt\", \"rb\") as fp:\n",
    "    seq_events = pickle.load(fp)"
   ]
  },
  {
   "cell_type": "code",
   "execution_count": 3,
   "metadata": {},
   "outputs": [
    {
     "name": "stdout",
     "output_type": "stream",
     "text": [
      "Mean Length: 47.133057151766224\n",
      "Minimum Length: 1\n",
      "Maximum Length: 1466\n"
     ]
    }
   ],
   "source": [
    "lengths = []\n",
    "for i in seq_events:\n",
    "    lengths.append(len(i))\n",
    "    \n",
    "print ('Mean Length: '+str(np.mean(lengths)))\n",
    "print ('Minimum Length: '+str(np.min(lengths)))\n",
    "print ('Maximum Length: '+str(np.max(lengths)))"
   ]
  },
  {
   "cell_type": "markdown",
   "metadata": {},
   "source": [
    "<table><td>Seq Length 1 -> Count 38\n",
    "Seq Length 2 -> Count 5237\n",
    "Seq Length 3 -> Count 1481\n",
    "Seq Length 4 -> Count 4959\n",
    "Seq Length 5 -> Count 1903\n",
    "Seq Length 6 -> Count 549\n",
    "Seq Length 7 -> Count 114\n",
    "Seq Length 8 -> Count 49\n",
    "Seq Length 9 -> Count 49\n",
    "Seq Length 10 -> Count 27\n",
    "Seq Length 11 -> Count 65\n",
    "Seq Length 12 -> Count 12\n",
    "Seq Length 13 -> Count 65\n",
    "Seq Length 14 -> Count 53\n",
    "Seq Length 15 -> Count 326\n",
    "Seq Length 16 -> Count 112\n",
    "Seq Length 17 -> Count 19\n",
    "Seq Length 18 -> Count 35\n",
    "Seq Length 19 -> Count 306\n",
    "Seq Length 20 -> Count 15\n",
    "Seq Length 21 -> Count 13\n",
    "Seq Length 22 -> Count 6\n",
    "Seq Length 23 -> Count 482\n",
    "Seq Length 24 -> Count 7\n",
    "Seq Length 25 -> Count 4\n",
    "Seq Length 26 -> Count 119\n",
    "Seq Length 27 -> Count 5\n",
    "Seq Length 28 -> Count 52\n",
    "Seq Length 29 -> Count 17\n",
    "Seq Length 30 -> Count 19\n",
    "Seq Length 31 -> Count 637\n",
    "Seq Length 32 -> Count 5\n",
    "Seq Length 34 -> Count 3\n",
    "Seq Length 35 -> Count 1\n",
    "Seq Length 36 -> Count 3\n",
    "Seq Length 38 -> Count 2\n",
    "Seq Length 39 -> Count 2\n",
    "Seq Length 40 -> Count 3\n",
    "Seq Length 41 -> Count 1\n",
    "Seq Length 42 -> Count 3\n",
    "Seq Length 43 -> Count 2\n",
    "Seq Length 44 -> Count 11\n",
    "Seq Length 45 -> Count 1\n",
    "Seq Length 46 -> Count 3\n",
    "Seq Length 48 -> Count 2\n",
    "Seq Length 50 -> Count 2\n",
    "Seq Length 51 -> Count 3\n",
    "Seq Length 52 -> Count 1\n",
    "Seq Length 53 -> Count 2\n",
    "Seq Length 54 -> Count 2\n",
    "Seq Length 55 -> Count 3\n",
    "Seq Length 56 -> Count 2\n",
    "Seq Length 58 -> Count 3\n",
    "Seq Length 59 -> Count 1\n",
    "Seq Length 60 -> Count 3\n",
    "Seq Length 62 -> Count 2\n",
    "Seq Length 63 -> Count 6\n",
    "Seq Length 64 -> Count 1\n",
    "Seq Length 66 -> Count 3\n",
    "Seq Length 68 -> Count 1\n",
    "Seq Length 69 -> Count 188\n",
    "Seq Length 70 -> Count 1\n",
    "Seq Length 71 -> Count 659\n",
    "Seq Length 75 -> Count 1\n",
    "Seq Length 76 -> Count 22\n",
    "Seq Length 79 -> Count 1\n",
    "Seq Length 80 -> Count 37\n",
    "Seq Length 81 -> Count 2\n",
    "Seq Length 83 -> Count 1\n",
    "Seq Length 85 -> Count 1\n",
    "Seq Length 88 -> Count 1\n",
    "Seq Length 90 -> Count 1\n",
    "Seq Length 92 -> Count 2\n",
    "Seq Length 94 -> Count 1\n",
    "Seq Length 95 -> Count 1\n",
    "Seq Length 96 -> Count 1\n",
    "Seq Length 97 -> Count 2<td></\n",
    "Seq Length 98 -> Count 2\n",
    "Seq Length 99 -> Count 1\n",
    "Seq Length 100 -> Count 1\n",
    "Seq Length 101 -> Count 2\n",
    "Seq Length 106 -> Count 9\n",
    "Seq Length 111 -> Count 1\n",
    "Seq Length 112 -> Count 2\n",
    "Seq Length 114 -> Count 1\n",
    "Seq Length 121 -> Count 1\n",
    "Seq Length 122 -> Count 9\n",
    "Seq Length 123 -> Count 1\n",
    "Seq Length 124 -> Count 2\n",
    "Seq Length 126 -> Count 2\n",
    "Seq Length 127 -> Count 31\n",
    "Seq Length 128 -> Count 1\n",
    "Seq Length 129 -> Count 625\n",
    "Seq Length 132 -> Count 1\n",
    "Seq Length 133 -> Count 8\n",
    "Seq Length 134 -> Count 1\n",
    "Seq Length 135 -> Count 1\n",
    "Seq Length 137 -> Count 1\n",
    "Seq Length 143 -> Count 2\n",
    "Seq Length 145 -> Count 1\n",
    "Seq Length 152 -> Count 1\n",
    "Seq Length 157 -> Count 1\n",
    "Seq Length 161 -> Count 1\n",
    "Seq Length 166 -> Count 2\n",
    "Seq Length 171 -> Count 1\n",
    "Seq Length 175 -> Count 2\n",
    "Seq Length 177 -> Count 3\n",
    "Seq Length 179 -> Count 1\n",
    "Seq Length 183 -> Count 1\n",
    "Seq Length 186 -> Count 1\n",
    "Seq Length 188 -> Count 18\n",
    "Seq Length 191 -> Count 1\n",
    "Seq Length 192 -> Count 8\n",
    "Seq Length 193 -> Count 2\n",
    "Seq Length 194 -> Count 443\n",
    "Seq Length 197 -> Count 418\n",
    "Seq Length 199 -> Count 3032\n",
    "Seq Length 205 -> Count 1\n",
    "Seq Length 206 -> Count 1\n",
    "Seq Length 209 -> Count 1\n",
    "Seq Length 210 -> Count 1\n",
    "Seq Length 216 -> Count 1\n",
    "Seq Length 236 -> Count 1\n",
    "Seq Length 239 -> Count 1\n",
    "Seq Length 243 -> Count 1\n",
    "Seq Length 252 -> Count 1\n",
    "Seq Length 257 -> Count 1\n",
    "Seq Length 264 -> Count 1\n",
    "Seq Length 265 -> Count 1\n",
    "Seq Length 266 -> Count 1\n",
    "Seq Length 271 -> Count 1\n",
    "Seq Length 293 -> Count 1\n",
    "Seq Length 304 -> Count 1\n",
    "Seq Length 309 -> Count 1\n",
    "Seq Length 316 -> Count 1\n",
    "Seq Length 320 -> Count 1\n",
    "Seq Length 348 -> Count 1\n",
    "Seq Length 372 -> Count 1\n",
    "Seq Length 403 -> Count 1\n",
    "Seq Length 425 -> Count 1\n",
    "Seq Length 427 -> Count 1\n",
    "Seq Length 509 -> Count 1\n",
    "Seq Length 529 -> Count 1\n",
    "Seq Length 545 -> Count 1\n",
    "Seq Length 713 -> Count 1\n",
    "Seq Length 1054 -> Count 1\n",
    "Seq Length 1090 -> Count 1\n",
    "Seq Length 1326 -> Count 1\n",
    "Seq Length 1408 -> Count 1\n",
    "Seq Length 1466 -> Count 1</td></table>"
   ]
  },
  {
   "cell_type": "code",
   "execution_count": 4,
   "metadata": {},
   "outputs": [],
   "source": [
    "mod = MarkovChain(states=[0, 1, 2, 3, 4, 5, 6, 7, 8, 9, 10, 11, 12, 13, 14])"
   ]
  },
  {
   "cell_type": "code",
   "execution_count": 5,
   "metadata": {},
   "outputs": [],
   "source": [
    "mod.train(seq_events)"
   ]
  },
  {
   "cell_type": "code",
   "execution_count": 6,
   "metadata": {},
   "outputs": [
    {
     "data": {
      "text/plain": [
       "0.25082964115440604"
      ]
     },
     "execution_count": 6,
     "metadata": {},
     "output_type": "execute_result"
    }
   ],
   "source": [
    "mod.get_probability([12, 1, 10])"
   ]
  },
  {
   "cell_type": "code",
   "execution_count": 7,
   "metadata": {},
   "outputs": [
    {
     "data": {
      "text/plain": [
       "0.9199865877900989"
      ]
     },
     "execution_count": 7,
     "metadata": {},
     "output_type": "execute_result"
    }
   ],
   "source": [
    "mod.transition[3][4]"
   ]
  },
  {
   "cell_type": "code",
   "execution_count": null,
   "metadata": {},
   "outputs": [],
   "source": []
  }
 ],
 "metadata": {
  "kernelspec": {
   "display_name": "Python 3",
   "language": "python",
   "name": "python3"
  },
  "language_info": {
   "codemirror_mode": {
    "name": "ipython",
    "version": 3
   },
   "file_extension": ".py",
   "mimetype": "text/x-python",
   "name": "python",
   "nbconvert_exporter": "python",
   "pygments_lexer": "ipython3",
   "version": "3.6.3"
  }
 },
 "nbformat": 4,
 "nbformat_minor": 2
}
