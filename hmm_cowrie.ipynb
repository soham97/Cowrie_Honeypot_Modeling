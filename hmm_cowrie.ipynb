{
 "cells": [
  {
   "cell_type": "code",
   "execution_count": 1,
   "metadata": {},
   "outputs": [],
   "source": [
    "import pandas as pd\n",
    "import numpy as np\n",
    "import hmm\n",
    "import helper_functions as hf\n",
    "from sklearn.preprocessing import LabelEncoder\n",
    "from tqdm import tqdm_notebook as tqdm\n",
    "import pickle\n",
    "import matplotlib.pyplot as plt\n",
    "%matplotlib inline"
   ]
  },
  {
   "cell_type": "code",
   "execution_count": 2,
   "metadata": {},
   "outputs": [],
   "source": [
    "cow_1 = pd.read_json('data/cowrie_1.json', lines=True)\n",
    "cow_3 = pd.read_json('data/cowrie_3.json', lines=True)\n",
    "cow_4 = pd.read_json('data/cowrie_4.json', lines=True)"
   ]
  },
  {
   "cell_type": "code",
   "execution_count": 3,
   "metadata": {},
   "outputs": [
    {
     "name": "stdout",
     "output_type": "stream",
     "text": [
      "processed data samples: \n",
      "\n",
      "                                             eventid\n",
      "0                                           [12, 11]\n",
      "1  [12, 10, 8, 3, 4, 3, 2, 3, 4, 3, 4, 3, 4, 4, 4...\n",
      "2                                 [12, 10, 8, 7, 11]\n",
      "3                                    [12, 1, 10, 11]\n",
      "4                                    [12, 1, 10, 11]\n"
     ]
    }
   ],
   "source": [
    "k,le = hf.process_data(cow_1,cow_3,cow_4)"
   ]
  },
  {
   "cell_type": "code",
   "execution_count": 4,
   "metadata": {
    "scrolled": false
   },
   "outputs": [
    {
     "name": "stdout",
     "output_type": "stream",
     "text": [
      "Data Shape : (1058090, 30)\n"
     ]
    },
    {
     "data": {
      "text/html": [
       "<div>\n",
       "<style scoped>\n",
       "    .dataframe tbody tr th:only-of-type {\n",
       "        vertical-align: middle;\n",
       "    }\n",
       "\n",
       "    .dataframe tbody tr th {\n",
       "        vertical-align: top;\n",
       "    }\n",
       "\n",
       "    .dataframe thead th {\n",
       "        text-align: right;\n",
       "    }\n",
       "</style>\n",
       "<table border=\"1\" class=\"dataframe\">\n",
       "  <thead>\n",
       "    <tr style=\"text-align: right;\">\n",
       "      <th></th>\n",
       "      <th>compCS</th>\n",
       "      <th>data</th>\n",
       "      <th>dst_ip</th>\n",
       "      <th>dst_port</th>\n",
       "      <th>duration</th>\n",
       "      <th>encCS</th>\n",
       "      <th>eventid</th>\n",
       "      <th>height</th>\n",
       "      <th>input</th>\n",
       "      <th>isError</th>\n",
       "      <th>...</th>\n",
       "      <th>size</th>\n",
       "      <th>src_ip</th>\n",
       "      <th>src_port</th>\n",
       "      <th>system</th>\n",
       "      <th>timestamp</th>\n",
       "      <th>ttylog</th>\n",
       "      <th>url</th>\n",
       "      <th>username</th>\n",
       "      <th>version</th>\n",
       "      <th>width</th>\n",
       "    </tr>\n",
       "  </thead>\n",
       "  <tbody>\n",
       "    <tr>\n",
       "      <th>0</th>\n",
       "      <td>NaN</td>\n",
       "      <td>NaN</td>\n",
       "      <td>10.10.0.13</td>\n",
       "      <td>2222.0</td>\n",
       "      <td>NaN</td>\n",
       "      <td>NaN</td>\n",
       "      <td>cowrie.session.connect</td>\n",
       "      <td>NaN</td>\n",
       "      <td>NaN</td>\n",
       "      <td>0.0</td>\n",
       "      <td>...</td>\n",
       "      <td>NaN</td>\n",
       "      <td>116.31.116.16</td>\n",
       "      <td>39547.0</td>\n",
       "      <td>cowrie.ssh.factory.CowrieSSHFactory</td>\n",
       "      <td>2017-07-03 18:30:07.569246</td>\n",
       "      <td>NaN</td>\n",
       "      <td>NaN</td>\n",
       "      <td>NaN</td>\n",
       "      <td>NaN</td>\n",
       "      <td>NaN</td>\n",
       "    </tr>\n",
       "    <tr>\n",
       "      <th>1</th>\n",
       "      <td>[none]</td>\n",
       "      <td>NaN</td>\n",
       "      <td>NaN</td>\n",
       "      <td>NaN</td>\n",
       "      <td>NaN</td>\n",
       "      <td>[aes128-ctr, aes192-ctr, aes256-ctr, aes256-cb...</td>\n",
       "      <td>cowrie.client.version</td>\n",
       "      <td>NaN</td>\n",
       "      <td>NaN</td>\n",
       "      <td>0.0</td>\n",
       "      <td>...</td>\n",
       "      <td>NaN</td>\n",
       "      <td>116.31.116.16</td>\n",
       "      <td>NaN</td>\n",
       "      <td>HoneyPotSSHTransport,523,116.31.116.16</td>\n",
       "      <td>2017-07-03 18:30:08.235671</td>\n",
       "      <td>NaN</td>\n",
       "      <td>NaN</td>\n",
       "      <td>NaN</td>\n",
       "      <td>SSH-2.0-PUTTY</td>\n",
       "      <td>NaN</td>\n",
       "    </tr>\n",
       "    <tr>\n",
       "      <th>2</th>\n",
       "      <td>NaN</td>\n",
       "      <td>NaN</td>\n",
       "      <td>NaN</td>\n",
       "      <td>NaN</td>\n",
       "      <td>NaN</td>\n",
       "      <td>NaN</td>\n",
       "      <td>cowrie.login.success</td>\n",
       "      <td>NaN</td>\n",
       "      <td>NaN</td>\n",
       "      <td>0.0</td>\n",
       "      <td>...</td>\n",
       "      <td>NaN</td>\n",
       "      <td>116.31.116.16</td>\n",
       "      <td>NaN</td>\n",
       "      <td>SSHService 'ssh-userauth' on HoneyPotSSHTransp...</td>\n",
       "      <td>2017-07-03 18:30:10.585142</td>\n",
       "      <td>NaN</td>\n",
       "      <td>NaN</td>\n",
       "      <td>root</td>\n",
       "      <td>NaN</td>\n",
       "      <td>NaN</td>\n",
       "    </tr>\n",
       "    <tr>\n",
       "      <th>3</th>\n",
       "      <td>NaN</td>\n",
       "      <td>NaN</td>\n",
       "      <td>NaN</td>\n",
       "      <td>NaN</td>\n",
       "      <td>9.96463</td>\n",
       "      <td>NaN</td>\n",
       "      <td>cowrie.session.closed</td>\n",
       "      <td>NaN</td>\n",
       "      <td>NaN</td>\n",
       "      <td>0.0</td>\n",
       "      <td>...</td>\n",
       "      <td>NaN</td>\n",
       "      <td>116.31.116.16</td>\n",
       "      <td>NaN</td>\n",
       "      <td>HoneyPotSSHTransport,523,116.31.116.16</td>\n",
       "      <td>2017-07-03 18:30:17.902600</td>\n",
       "      <td>NaN</td>\n",
       "      <td>NaN</td>\n",
       "      <td>NaN</td>\n",
       "      <td>NaN</td>\n",
       "      <td>NaN</td>\n",
       "    </tr>\n",
       "    <tr>\n",
       "      <th>4</th>\n",
       "      <td>NaN</td>\n",
       "      <td>NaN</td>\n",
       "      <td>10.10.0.13</td>\n",
       "      <td>2222.0</td>\n",
       "      <td>NaN</td>\n",
       "      <td>NaN</td>\n",
       "      <td>cowrie.session.connect</td>\n",
       "      <td>NaN</td>\n",
       "      <td>NaN</td>\n",
       "      <td>0.0</td>\n",
       "      <td>...</td>\n",
       "      <td>NaN</td>\n",
       "      <td>116.31.116.16</td>\n",
       "      <td>22040.0</td>\n",
       "      <td>cowrie.ssh.factory.CowrieSSHFactory</td>\n",
       "      <td>2017-07-03 18:30:44.657703</td>\n",
       "      <td>NaN</td>\n",
       "      <td>NaN</td>\n",
       "      <td>NaN</td>\n",
       "      <td>NaN</td>\n",
       "      <td>NaN</td>\n",
       "    </tr>\n",
       "  </tbody>\n",
       "</table>\n",
       "<p>5 rows × 30 columns</p>\n",
       "</div>"
      ],
      "text/plain": [
       "   compCS data      dst_ip  dst_port  duration  \\\n",
       "0     NaN  NaN  10.10.0.13    2222.0       NaN   \n",
       "1  [none]  NaN         NaN       NaN       NaN   \n",
       "2     NaN  NaN         NaN       NaN       NaN   \n",
       "3     NaN  NaN         NaN       NaN   9.96463   \n",
       "4     NaN  NaN  10.10.0.13    2222.0       NaN   \n",
       "\n",
       "                                               encCS                 eventid  \\\n",
       "0                                                NaN  cowrie.session.connect   \n",
       "1  [aes128-ctr, aes192-ctr, aes256-ctr, aes256-cb...   cowrie.client.version   \n",
       "2                                                NaN    cowrie.login.success   \n",
       "3                                                NaN   cowrie.session.closed   \n",
       "4                                                NaN  cowrie.session.connect   \n",
       "\n",
       "   height input  isError  ...  size         src_ip src_port  \\\n",
       "0     NaN   NaN      0.0  ...   NaN  116.31.116.16  39547.0   \n",
       "1     NaN   NaN      0.0  ...   NaN  116.31.116.16      NaN   \n",
       "2     NaN   NaN      0.0  ...   NaN  116.31.116.16      NaN   \n",
       "3     NaN   NaN      0.0  ...   NaN  116.31.116.16      NaN   \n",
       "4     NaN   NaN      0.0  ...   NaN  116.31.116.16  22040.0   \n",
       "\n",
       "                                              system  \\\n",
       "0                cowrie.ssh.factory.CowrieSSHFactory   \n",
       "1             HoneyPotSSHTransport,523,116.31.116.16   \n",
       "2  SSHService 'ssh-userauth' on HoneyPotSSHTransp...   \n",
       "3             HoneyPotSSHTransport,523,116.31.116.16   \n",
       "4                cowrie.ssh.factory.CowrieSSHFactory   \n",
       "\n",
       "                   timestamp ttylog  url username        version width  \n",
       "0 2017-07-03 18:30:07.569246    NaN  NaN      NaN            NaN   NaN  \n",
       "1 2017-07-03 18:30:08.235671    NaN  NaN      NaN  SSH-2.0-PUTTY   NaN  \n",
       "2 2017-07-03 18:30:10.585142    NaN  NaN     root            NaN   NaN  \n",
       "3 2017-07-03 18:30:17.902600    NaN  NaN      NaN            NaN   NaN  \n",
       "4 2017-07-03 18:30:44.657703    NaN  NaN      NaN            NaN   NaN  \n",
       "\n",
       "[5 rows x 30 columns]"
      ]
     },
     "metadata": {},
     "output_type": "display_data"
    },
    {
     "data": {
      "text/plain": [
       "<matplotlib.axes._subplots.AxesSubplot at 0x12312e7b8>"
      ]
     },
     "metadata": {},
     "output_type": "display_data"
    },
    {
     "data": {
      "image/png": "[encoded data removed]",
      "text/plain": [
       "<matplotlib.figure.Figure at 0x123131400>"
      ]
     },
     "metadata": {},
     "output_type": "display_data"
    },
    {
     "data": {
      "text/plain": [
       "<matplotlib.axes._subplots.AxesSubplot at 0x1135c59b0>"
      ]
     },
     "metadata": {},
     "output_type": "display_data"
    },
    {
     "data": {
      "image/png": "[encoded data removed]",
      "text/plain": [
       "<matplotlib.figure.Figure at 0x122ecc898>"
      ]
     },
     "metadata": {},
     "output_type": "display_data"
    },
    {
     "data": {
      "text/plain": [
       "<matplotlib.axes._subplots.AxesSubplot at 0x12308f5c0>"
      ]
     },
     "metadata": {},
     "output_type": "display_data"
    },
    {
     "data": {
      "image/png": "[encoded data removed]",
      "text/plain": [
       "<matplotlib.figure.Figure at 0x123162470>"
      ]
     },
     "metadata": {},
     "output_type": "display_data"
    },
    {
     "data": {
      "text/plain": [
       "<matplotlib.axes._subplots.AxesSubplot at 0x12301b080>"
      ]
     },
     "metadata": {},
     "output_type": "display_data"
    },
    {
     "data": {
      "image/png": "[encoded data removed]",
      "text/plain": [
       "<matplotlib.figure.Figure at 0x123025208>"
      ]
     },
     "metadata": {},
     "output_type": "display_data"
    },
    {
     "data": {
      "text/plain": [
       "<matplotlib.axes._subplots.AxesSubplot at 0x1231e0160>"
      ]
     },
     "metadata": {},
     "output_type": "display_data"
    },
    {
     "data": {
      "image/png": "[encoded data removed]",
      "text/plain": [
       "<matplotlib.figure.Figure at 0x105bb9400>"
      ]
     },
     "metadata": {},
     "output_type": "display_data"
    }
   ],
   "source": [
    "hf.vis(cow_1,cow_3,cow_4)"
   ]
  },
  {
   "cell_type": "code",
   "execution_count": 5,
   "metadata": {},
   "outputs": [],
   "source": [
    "# If direct seq_events available\n",
    "# k = hf.load_pickle('seq_events.txt')"
   ]
  },
  {
   "cell_type": "code",
   "execution_count": 6,
   "metadata": {},
   "outputs": [
    {
     "name": "stdout",
     "output_type": "stream",
     "text": [
      "Top maximum number of sequence length: \n",
      "\n",
      "    length  no of samples\n",
      "0      2.0         5237.0\n",
      "1      4.0         4959.0\n",
      "2    199.0         3032.0\n",
      "3      5.0         1903.0\n",
      "4      3.0         1481.0\n",
      "5     71.0          659.0\n",
      "6     31.0          637.0\n",
      "7    129.0          625.0\n",
      "8      6.0          549.0\n",
      "9     23.0          482.0\n",
      "10   194.0          443.0\n",
      "11   197.0          418.0\n",
      "12    15.0          326.0\n",
      "13    19.0          306.0\n",
      "14    69.0          188.0\n",
      "15    26.0          119.0\n",
      "16     7.0          114.0\n",
      "17    16.0          112.0\n",
      "18    11.0           65.0\n",
      "19    13.0           65.0\n"
     ]
    }
   ],
   "source": [
    "hf.sample_per_seq(k, 3000)"
   ]
  },
  {
   "cell_type": "code",
   "execution_count": 7,
   "metadata": {},
   "outputs": [],
   "source": [
    "length = 7"
   ]
  },
  {
   "cell_type": "code",
   "execution_count": 8,
   "metadata": {},
   "outputs": [
    {
     "data": {
      "application/vnd.jupyter.widget-view+json": {
       "model_id": "14c78cea4f604b22b5f3467f0b58b31b",
       "version_major": 2,
       "version_minor": 0
      },
      "text/html": [
       "<p>Failed to display Jupyter Widget of type <code>HBox</code>.</p>\n",
       "<p>\n",
       "  If you're reading this message in the Jupyter Notebook or JupyterLab Notebook, it may mean\n",
       "  that the widgets JavaScript is still loading. If this message persists, it\n",
       "  likely means that the widgets JavaScript library is either not installed or\n",
       "  not enabled. See the <a href=\"https://ipywidgets.readthedocs.io/en/stable/user_install.html\">Jupyter\n",
       "  Widgets Documentation</a> for setup instructions.\n",
       "</p>\n",
       "<p>\n",
       "  If you're reading this message in another frontend (for example, a static\n",
       "  rendering on GitHub or <a href=\"https://nbviewer.jupyter.org/\">NBViewer</a>),\n",
       "  it may mean that your frontend doesn't currently support widgets.\n",
       "</p>\n"
      ],
      "text/plain": [
       "HBox(children=(IntProgress(value=0, max=22449), HTML(value='')))"
      ]
     },
     "metadata": {},
     "output_type": "display_data"
    },
    {
     "name": "stdout",
     "output_type": "stream",
     "text": [
      "\n",
      "total samples found: 114\n",
      "\n",
      "few samples of data of sequence length 7\n",
      "[[12  1 10  6  6  5 11]\n",
      " [12  1 10  0  8  7 11]\n",
      " [12  1 10  6  6  5 11]\n",
      " [12  1 10  0  8  7 11]\n",
      " [12  1 10  0  8  7 11]]\n"
     ]
    }
   ],
   "source": [
    "data = hf.desired_seq(k,length)"
   ]
  },
  {
   "cell_type": "code",
   "execution_count": 9,
   "metadata": {},
   "outputs": [],
   "source": [
    "N = 17\n",
    "M = 17\n",
    "T = length"
   ]
  },
  {
   "cell_type": "code",
   "execution_count": 10,
   "metadata": {},
   "outputs": [],
   "source": [
    "mod = hmm.HMM(N, M, T)"
   ]
  },
  {
   "cell_type": "code",
   "execution_count": 11,
   "metadata": {},
   "outputs": [
    {
     "name": "stdout",
     "output_type": "stream",
     "text": [
      "Update #1 Log Probability: -0.31788610577432047 -- Mean Error 0.0012036957824197283\n",
      "Update #1 Probability: 3.147624757881991e-05\n",
      "Update #2 Log Probability: -0.05640544312813583 -- Mean Error 0.0014485000243595154\n",
      "Update #2 Probability: 0.0008507326352022972\n",
      "Update #3 Log Probability: -0.030614053536459192 -- Mean Error 0.00047294980207124537\n",
      "Update #3 Probability: 0.003097289413088797\n",
      "Update #4 Log Probability: -0.02232047794712036 -- Mean Error 0.00015923903288414732\n",
      "Update #4 Probability: 0.004948306688423321\n",
      "Update #5 Log Probability: -0.013072072722309354 -- Mean Error 0.00026224856657315946\n",
      "Update #5 Probability: 0.008414690811228873\n",
      "Update #6 Log Probability: -0.004418471401552752 -- Mean Error 0.0003498637715806496\n",
      "Update #6 Probability: 0.013695132200757305\n",
      "Update #7 Log Probability: -0.0009697458620579479 -- Mean Error 8.562880568735687e-05\n",
      "Update #7 Probability: 0.01660148206027276\n",
      "Update #8 Log Probability: -0.0007447939783559586 -- Mean Error 2.4159233414198915e-06\n",
      "Update #8 Probability: 0.01681465383396736\n",
      "Update #9 Log Probability: -0.0007369228181940544 -- Mean Error 9.553489990387013e-06\n",
      "Update #9 Probability: 0.016822199644724638\n",
      "Update #10 Log Probability: -0.0007207918526293994 -- Mean Error 6.879940070753037e-05\n",
      "Update #10 Probability: 0.016837674932159048\n",
      "Update #11 Log Probability: -0.0006902483366087658 -- Mean Error 0.00021705505652311736\n",
      "Update #11 Probability: 0.016867015390042244\n",
      "Update #12 Log Probability: -0.0006662402839864688 -- Mean Error 8.016828849699662e-05\n",
      "Update #12 Probability: 0.016890111867143228\n",
      "Update #13 Log Probability: -0.0006524213714860705 -- Mean Error 1.6482661757245348e-05\n",
      "Update #13 Probability: 0.016903420545026533\n",
      "Update #14 Log Probability: -0.0006425368446906623 -- Mean Error 4.401422919684745e-05\n",
      "Update #14 Probability: 0.01691294703522118\n",
      "Update #15 Log Probability: -0.0006303241444692832 -- Mean Error 3.333546105655123e-05\n",
      "Update #15 Probability: 0.016924724612192698\n",
      "Update #16 Log Probability: -0.0006204363336909991 -- Mean Error 3.81601324204039e-05\n",
      "Update #16 Probability: 0.016934266086345368\n",
      "Update #17 Log Probability: -0.0006147429244941038 -- Mean Error 1.6774364170839504e-06\n",
      "Update #17 Probability: 0.016939762430596212\n",
      "Update #18 Log Probability: -0.0006134887722855261 -- Mean Error 1.89409016059831e-07\n",
      "Update #18 Probability: 0.01694097343386783\n",
      "Update #19 Log Probability: -0.0006124827438957963 -- Mean Error 3.0008375400967945e-07\n",
      "Update #19 Probability: 0.016941944919640628\n",
      "Update #20 Log Probability: -0.0006109675208351407 -- Mean Error 6.241459144183695e-07\n",
      "Update #20 Probability: 0.016943408223584793\n",
      "Update #21 Log Probability: -0.0006084144315155483 -- Mean Error 1.8584379848486118e-06\n",
      "Update #21 Probability: 0.016945874124285616\n",
      "Update #22 Log Probability: -0.000603419062428305 -- Mean Error 8.8104518915658e-06\n",
      "Update #22 Probability: 0.016950699979415337\n",
      "Update #23 Log Probability: -0.000591668907648801 -- Mean Error 7.249162695526525e-05\n",
      "Update #23 Probability: 0.01696205711591485\n",
      "Update #24 Log Probability: -0.0005707127813182763 -- Mean Error 0.0001703251513254647\n",
      "Update #24 Probability: 0.01698233037304355\n",
      "Update #25 Log Probability: -0.0005648214104019276 -- Mean Error 3.5810315875843515e-08\n",
      "Update #25 Probability: 0.016988033607463524\n",
      "Update #26 Log Probability: -0.0005647790025416659 -- Mean Error 2.6481121819887837e-08\n",
      "Update #26 Probability: 0.016988074671798657\n",
      "None\n"
     ]
    }
   ],
   "source": [
    "print (mod.train(data))"
   ]
  },
  {
   "cell_type": "code",
   "execution_count": 12,
   "metadata": {},
   "outputs": [
    {
     "data": {
      "application/vnd.jupyter.widget-view+json": {
       "model_id": "52eaae037333423fb5f8976005e0d844",
       "version_major": 2,
       "version_minor": 0
      },
      "text/html": [
       "<p>Failed to display Jupyter Widget of type <code>HBox</code>.</p>\n",
       "<p>\n",
       "  If you're reading this message in the Jupyter Notebook or JupyterLab Notebook, it may mean\n",
       "  that the widgets JavaScript is still loading. If this message persists, it\n",
       "  likely means that the widgets JavaScript library is either not installed or\n",
       "  not enabled. See the <a href=\"https://ipywidgets.readthedocs.io/en/stable/user_install.html\">Jupyter\n",
       "  Widgets Documentation</a> for setup instructions.\n",
       "</p>\n",
       "<p>\n",
       "  If you're reading this message in another frontend (for example, a static\n",
       "  rendering on GitHub or <a href=\"https://nbviewer.jupyter.org/\">NBViewer</a>),\n",
       "  it may mean that your frontend doesn't currently support widgets.\n",
       "</p>\n"
      ],
      "text/plain": [
       "HBox(children=(IntProgress(value=0, max=114), HTML(value='')))"
      ]
     },
     "metadata": {},
     "output_type": "display_data"
    },
    {
     "name": "stdout",
     "output_type": "stream",
     "text": [
      "\n",
      "result samples: \n",
      "\n",
      "                        seq  prob\n",
      "0  [12, 1, 10, 6, 6, 5, 11]   0.0\n",
      "1  [12, 1, 10, 0, 8, 7, 11]   0.0\n",
      "2  [12, 1, 10, 6, 6, 5, 11]   0.0\n",
      "3  [12, 1, 10, 0, 8, 7, 11]   0.0\n",
      "4  [12, 1, 10, 0, 8, 7, 11]   0.0\n",
      "\n",
      " Further analysis of results:  \n",
      "\n",
      "             prob\n",
      "count  114.000000\n",
      "mean     0.016988\n",
      "std      0.127688\n",
      "min      0.000000\n",
      "25%      0.000000\n",
      "50%      0.000000\n",
      "75%      0.000000\n",
      "max      0.968321\n",
      "\n",
      " Max probablity sequence: \n",
      "\n",
      "seq     [12, 1, 10, 6, 6, 6, 11]\n",
      "prob                    0.968321\n",
      "Name: 8, dtype: object\n"
     ]
    }
   ],
   "source": [
    "result = hf.calculate_probablity(mod,data)"
   ]
  },
  {
   "cell_type": "code",
   "execution_count": 13,
   "metadata": {},
   "outputs": [
    {
     "name": "stdout",
     "output_type": "stream",
     "text": [
      "The given seq itself is highly unlikely\n"
     ]
    },
    {
     "data": {
      "text/html": [
       "<div>\n",
       "<style scoped>\n",
       "    .dataframe tbody tr th:only-of-type {\n",
       "        vertical-align: middle;\n",
       "    }\n",
       "\n",
       "    .dataframe tbody tr th {\n",
       "        vertical-align: top;\n",
       "    }\n",
       "\n",
       "    .dataframe thead th {\n",
       "        text-align: right;\n",
       "    }\n",
       "</style>\n",
       "<table border=\"1\" class=\"dataframe\">\n",
       "  <thead>\n",
       "    <tr style=\"text-align: right;\">\n",
       "      <th></th>\n",
       "      <th>seq</th>\n",
       "      <th>prob</th>\n",
       "    </tr>\n",
       "  </thead>\n",
       "  <tbody>\n",
       "    <tr>\n",
       "      <th>0</th>\n",
       "      <td>[13, 1, 0]</td>\n",
       "      <td>0.0</td>\n",
       "    </tr>\n",
       "    <tr>\n",
       "      <th>1</th>\n",
       "      <td>[13, 1, 1]</td>\n",
       "      <td>0.0</td>\n",
       "    </tr>\n",
       "    <tr>\n",
       "      <th>2</th>\n",
       "      <td>[13, 1, 2]</td>\n",
       "      <td>0.0</td>\n",
       "    </tr>\n",
       "    <tr>\n",
       "      <th>3</th>\n",
       "      <td>[13, 1, 3]</td>\n",
       "      <td>0.0</td>\n",
       "    </tr>\n",
       "    <tr>\n",
       "      <th>4</th>\n",
       "      <td>[13, 1, 4]</td>\n",
       "      <td>0.0</td>\n",
       "    </tr>\n",
       "    <tr>\n",
       "      <th>5</th>\n",
       "      <td>[13, 1, 5]</td>\n",
       "      <td>0.0</td>\n",
       "    </tr>\n",
       "    <tr>\n",
       "      <th>6</th>\n",
       "      <td>[13, 1, 6]</td>\n",
       "      <td>0.0</td>\n",
       "    </tr>\n",
       "    <tr>\n",
       "      <th>7</th>\n",
       "      <td>[13, 1, 7]</td>\n",
       "      <td>0.0</td>\n",
       "    </tr>\n",
       "    <tr>\n",
       "      <th>8</th>\n",
       "      <td>[13, 1, 8]</td>\n",
       "      <td>0.0</td>\n",
       "    </tr>\n",
       "    <tr>\n",
       "      <th>9</th>\n",
       "      <td>[13, 1, 9]</td>\n",
       "      <td>0.0</td>\n",
       "    </tr>\n",
       "    <tr>\n",
       "      <th>10</th>\n",
       "      <td>[13, 1, 10]</td>\n",
       "      <td>0.0</td>\n",
       "    </tr>\n",
       "    <tr>\n",
       "      <th>11</th>\n",
       "      <td>[13, 1, 11]</td>\n",
       "      <td>0.0</td>\n",
       "    </tr>\n",
       "    <tr>\n",
       "      <th>12</th>\n",
       "      <td>[13, 1, 12]</td>\n",
       "      <td>0.0</td>\n",
       "    </tr>\n",
       "    <tr>\n",
       "      <th>13</th>\n",
       "      <td>[13, 1, 13]</td>\n",
       "      <td>0.0</td>\n",
       "    </tr>\n",
       "    <tr>\n",
       "      <th>14</th>\n",
       "      <td>[13, 1, 14]</td>\n",
       "      <td>0.0</td>\n",
       "    </tr>\n",
       "  </tbody>\n",
       "</table>\n",
       "</div>"
      ],
      "text/plain": [
       "            seq  prob\n",
       "0    [13, 1, 0]   0.0\n",
       "1    [13, 1, 1]   0.0\n",
       "2    [13, 1, 2]   0.0\n",
       "3    [13, 1, 3]   0.0\n",
       "4    [13, 1, 4]   0.0\n",
       "5    [13, 1, 5]   0.0\n",
       "6    [13, 1, 6]   0.0\n",
       "7    [13, 1, 7]   0.0\n",
       "8    [13, 1, 8]   0.0\n",
       "9    [13, 1, 9]   0.0\n",
       "10  [13, 1, 10]   0.0\n",
       "11  [13, 1, 11]   0.0\n",
       "12  [13, 1, 12]   0.0\n",
       "13  [13, 1, 13]   0.0\n",
       "14  [13, 1, 14]   0.0"
      ]
     },
     "metadata": {},
     "output_type": "display_data"
    }
   ],
   "source": [
    "hf.next_highprob_action(mod,[13, 1],15,le)"
   ]
  },
  {
   "cell_type": "code",
   "execution_count": 14,
   "metadata": {},
   "outputs": [
    {
     "name": "stdout",
     "output_type": "stream",
     "text": [
      "\n",
      " Next highly probable action taken by hacker will be 6 i.e cowrie.direct-tcpip.request\n",
      "\n",
      "\n",
      "seq     [12, 1, 10, 6, 6, 6]\n",
      "prob                0.975166\n",
      "Name: 6, dtype: object\n",
      "\n",
      " Next least probable action taken by hacker will be 0 i.e cowrie.client.size\n",
      "\n",
      "\n",
      "seq     [12, 1, 10, 6, 6, 6]\n",
      "prob                0.975166\n",
      "Name: 6, dtype: object\n",
      "\n",
      "\n"
     ]
    },
    {
     "name": "stderr",
     "output_type": "stream",
     "text": [
      "/Library/Frameworks/Python.framework/Versions/3.6/lib/python3.6/site-packages/sklearn/preprocessing/label.py:151: DeprecationWarning: The truth value of an empty array is ambiguous. Returning False, but in future this will result in an error. Use `array.size > 0` to check that an array is not empty.\n",
      "  if diff:\n",
      "/Library/Frameworks/Python.framework/Versions/3.6/lib/python3.6/site-packages/sklearn/preprocessing/label.py:151: DeprecationWarning: The truth value of an empty array is ambiguous. Returning False, but in future this will result in an error. Use `array.size > 0` to check that an array is not empty.\n",
      "  if diff:\n"
     ]
    },
    {
     "data": {
      "text/html": [
       "<div>\n",
       "<style scoped>\n",
       "    .dataframe tbody tr th:only-of-type {\n",
       "        vertical-align: middle;\n",
       "    }\n",
       "\n",
       "    .dataframe tbody tr th {\n",
       "        vertical-align: top;\n",
       "    }\n",
       "\n",
       "    .dataframe thead th {\n",
       "        text-align: right;\n",
       "    }\n",
       "</style>\n",
       "<table border=\"1\" class=\"dataframe\">\n",
       "  <thead>\n",
       "    <tr style=\"text-align: right;\">\n",
       "      <th></th>\n",
       "      <th>seq</th>\n",
       "      <th>prob</th>\n",
       "    </tr>\n",
       "  </thead>\n",
       "  <tbody>\n",
       "    <tr>\n",
       "      <th>0</th>\n",
       "      <td>[12, 1, 10, 6, 6, 0]</td>\n",
       "      <td>0.000000</td>\n",
       "    </tr>\n",
       "    <tr>\n",
       "      <th>1</th>\n",
       "      <td>[12, 1, 10, 6, 6, 1]</td>\n",
       "      <td>0.000556</td>\n",
       "    </tr>\n",
       "    <tr>\n",
       "      <th>2</th>\n",
       "      <td>[12, 1, 10, 6, 6, 2]</td>\n",
       "      <td>0.000000</td>\n",
       "    </tr>\n",
       "    <tr>\n",
       "      <th>3</th>\n",
       "      <td>[12, 1, 10, 6, 6, 3]</td>\n",
       "      <td>0.000000</td>\n",
       "    </tr>\n",
       "    <tr>\n",
       "      <th>4</th>\n",
       "      <td>[12, 1, 10, 6, 6, 4]</td>\n",
       "      <td>0.000000</td>\n",
       "    </tr>\n",
       "    <tr>\n",
       "      <th>5</th>\n",
       "      <td>[12, 1, 10, 6, 6, 5]</td>\n",
       "      <td>0.000000</td>\n",
       "    </tr>\n",
       "    <tr>\n",
       "      <th>6</th>\n",
       "      <td>[12, 1, 10, 6, 6, 6]</td>\n",
       "      <td>0.975166</td>\n",
       "    </tr>\n",
       "    <tr>\n",
       "      <th>7</th>\n",
       "      <td>[12, 1, 10, 6, 6, 7]</td>\n",
       "      <td>0.000000</td>\n",
       "    </tr>\n",
       "    <tr>\n",
       "      <th>8</th>\n",
       "      <td>[12, 1, 10, 6, 6, 8]</td>\n",
       "      <td>0.000000</td>\n",
       "    </tr>\n",
       "    <tr>\n",
       "      <th>9</th>\n",
       "      <td>[12, 1, 10, 6, 6, 9]</td>\n",
       "      <td>0.000000</td>\n",
       "    </tr>\n",
       "    <tr>\n",
       "      <th>10</th>\n",
       "      <td>[12, 1, 10, 6, 6, 10]</td>\n",
       "      <td>0.000358</td>\n",
       "    </tr>\n",
       "    <tr>\n",
       "      <th>11</th>\n",
       "      <td>[12, 1, 10, 6, 6, 11]</td>\n",
       "      <td>0.001059</td>\n",
       "    </tr>\n",
       "    <tr>\n",
       "      <th>12</th>\n",
       "      <td>[12, 1, 10, 6, 6, 12]</td>\n",
       "      <td>0.000555</td>\n",
       "    </tr>\n",
       "    <tr>\n",
       "      <th>13</th>\n",
       "      <td>[12, 1, 10, 6, 6, 13]</td>\n",
       "      <td>0.000000</td>\n",
       "    </tr>\n",
       "    <tr>\n",
       "      <th>14</th>\n",
       "      <td>[12, 1, 10, 6, 6, 14]</td>\n",
       "      <td>0.000000</td>\n",
       "    </tr>\n",
       "  </tbody>\n",
       "</table>\n",
       "</div>"
      ],
      "text/plain": [
       "                      seq      prob\n",
       "0    [12, 1, 10, 6, 6, 0]  0.000000\n",
       "1    [12, 1, 10, 6, 6, 1]  0.000556\n",
       "2    [12, 1, 10, 6, 6, 2]  0.000000\n",
       "3    [12, 1, 10, 6, 6, 3]  0.000000\n",
       "4    [12, 1, 10, 6, 6, 4]  0.000000\n",
       "5    [12, 1, 10, 6, 6, 5]  0.000000\n",
       "6    [12, 1, 10, 6, 6, 6]  0.975166\n",
       "7    [12, 1, 10, 6, 6, 7]  0.000000\n",
       "8    [12, 1, 10, 6, 6, 8]  0.000000\n",
       "9    [12, 1, 10, 6, 6, 9]  0.000000\n",
       "10  [12, 1, 10, 6, 6, 10]  0.000358\n",
       "11  [12, 1, 10, 6, 6, 11]  0.001059\n",
       "12  [12, 1, 10, 6, 6, 12]  0.000555\n",
       "13  [12, 1, 10, 6, 6, 13]  0.000000\n",
       "14  [12, 1, 10, 6, 6, 14]  0.000000"
      ]
     },
     "metadata": {},
     "output_type": "display_data"
    }
   ],
   "source": [
    "hf.next_highprob_action(mod,[12, 1, 10, 6, 6],15,le)"
   ]
  },
  {
   "cell_type": "code",
   "execution_count": null,
   "metadata": {},
   "outputs": [],
   "source": []
  }
 ],
 "metadata": {
  "kernelspec": {
   "display_name": "Python 3",
   "language": "python",
   "name": "python3"
  },
  "language_info": {
   "codemirror_mode": {
    "name": "ipython",
    "version": 3
   },
   "file_extension": ".py",
   "mimetype": "text/x-python",
   "name": "python",
   "nbconvert_exporter": "python",
   "pygments_lexer": "ipython3",
   "version": "3.6.2"
  }
 },
 "nbformat": 4,
 "nbformat_minor": 2
}
